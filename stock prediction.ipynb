{
 "cells": [
  {
   "cell_type": "markdown",
   "metadata": {},
   "source": [
    "# Part 1: RNN models with LSTM"
   ]
  },
  {
   "cell_type": "code",
   "execution_count": 382,
   "metadata": {
    "scrolled": false
   },
   "outputs": [
    {
     "name": "stdout",
     "output_type": "stream",
     "text": [
      "login success!\n",
      "login respond error_code:0\n",
      "login respond  error_msg:success\n",
      "query_history_k_data_plus respond error_code:0\n",
      "query_history_k_data_plus respond  error_msg:success\n",
      "           date     open     high      low    close    volume\n",
      "0    2017-01-06  18.3400  22.0000  18.3400  22.0000      7021\n",
      "1    2017-01-09  24.2000  24.2000  24.2000  24.2000      2721\n",
      "2    2017-01-10  26.6200  26.6200  26.6200  26.6200      2000\n",
      "3    2017-01-11  29.2800  29.2800  29.2800  29.2800      6200\n",
      "4    2017-01-12  32.2100  32.2100  32.2100  32.2100      6921\n",
      "..          ...      ...      ...      ...      ...       ...\n",
      "796  2020-04-16  40.6900  41.4500  38.7000  39.2500  28623287\n",
      "797  2020-04-17  39.5000  39.9100  37.8000  38.2800  25541813\n",
      "798  2020-04-20  37.8100  39.0800  36.7100  38.6400  24013819\n",
      "799  2020-04-21  38.3400  41.1300  37.8300  38.7200  28839858\n",
      "800  2020-04-22  38.0300  39.2000  37.2600  38.1000  16671958\n",
      "\n",
      "[801 rows x 6 columns]\n",
      "logout success!\n"
     ]
    },
    {
     "data": {
      "text/plain": [
       "<baostock.data.resultset.ResultData at 0x1f2aedefd48>"
      ]
     },
     "execution_count": 382,
     "metadata": {},
     "output_type": "execute_result"
    }
   ],
   "source": [
    "# Dataset\n",
    "# In this case, we are going to use one stock of the Chinese stock market, u may need to install the api package first\n",
    "# pip install baostock -i https://pypi.tuna.tsinghua.edu.cn/simple/ --trusted-host pypi.tuna.tsinghua.edu.cn\n",
    "import baostock as bs\n",
    "import pandas as pd\n",
    "\n",
    "#### Login to baostock api ####\n",
    "lg = bs.login()\n",
    "# display feedback of login\n",
    "print('login respond error_code:'+lg.error_code)\n",
    "print('login respond  error_msg:'+lg.error_msg)\n",
    "\n",
    "#### Get stock history of A-share of mainland China  ####\n",
    "rs = bs.query_history_k_data_plus(\"sz.002838\",#change the specific stock ID in the quotation mark\n",
    "    \"date,open,high,low,close,volume\",\n",
    "    start_date='2000-01-01', end_date='2020-04-22', #change the period that we want to aquire the daily data\n",
    "    frequency=\"d\", adjustflag=\"3\") \n",
    "print('query_history_k_data_plus respond error_code:'+rs.error_code)\n",
    "print('query_history_k_data_plus respond  error_msg:'+rs.error_msg)\n",
    "\n",
    "#### Output the dataset ####\n",
    "data_list = []\n",
    "while (rs.error_code == '0') & rs.next():\n",
    "    # Request each entry and append them\n",
    "    data_list.append(rs.get_row_data())\n",
    "result = pd.DataFrame(data_list, columns=rs.fields)\n",
    "#### Save the data as csv ####\n",
    "result.to_csv(\"history_k_data.csv\", encoding=\"gbk\", index=False)\n",
    "print(result)\n",
    "\n",
    "#### Logout from baostock api ####\n",
    "bs.logout()"
   ]
  },
  {
   "cell_type": "code",
   "execution_count": 383,
   "metadata": {},
   "outputs": [],
   "source": [
    "# Data processing\n",
    "import pandas as pd\n",
    "from sklearn import preprocessing\n",
    "import numpy as np\n",
    "\n",
    "# Preliminary settings\n",
    "# The number of days of stock history the model gets to base its predictions off of\n",
    "history_points = 30\n",
    "\n",
    "# Normalise the data — scale it between 0 and 1\n",
    "def csv_to_dataset(csv_path):\n",
    "    data = pd.read_csv(csv_path)\n",
    "    data = data.drop('date', axis=1)\n",
    "    data = data.drop(0, axis=0)\n",
    "    \n",
    "    data = data.values\n",
    "    \n",
    "    data_normaliser = preprocessing.MinMaxScaler()\n",
    "    data_normalised = data_normaliser.fit_transform(data)\n",
    "\n",
    "    # using the last {history_points} open close high low volume data points, predict the next open value\n",
    "    ohlcv_histories_normalised = np.array([data_normalised[i:i + history_points].copy() for i in range(len(data_normalised) - history_points)])\n",
    "\n",
    "    next_day_open_values_normalised = np.array([data_normalised[:, 0][i + history_points].copy() for i in range(len(data_normalised) - history_points)])\n",
    "    next_day_open_values_normalised = np.expand_dims(next_day_open_values_normalised, -1)\n",
    "    next_day_open_values = np.array([data[:, 0][i + history_points].copy() for i in range(len(data) - history_points)])\n",
    "    next_day_open_values = np.expand_dims(next_day_open_values, -1)\n",
    "    \n",
    "    next_day_high_values_normalised = np.array([data_normalised[:, 1][i + history_points].copy() for i in range(len(data_normalised) - history_points)])\n",
    "    next_day_high_values_normalised = np.expand_dims(next_day_high_values_normalised, -1)\n",
    "    next_day_high_values = np.array([data[:, 1][i + history_points].copy() for i in range(len(data) - history_points)])\n",
    "    next_day_high_values = np.expand_dims(next_day_high_values, -1)\n",
    "\n",
    "    next_day_low_values_normalised = np.array([data_normalised[:, 2][i + history_points].copy() for i in range(len(data_normalised) - history_points)])\n",
    "    next_day_low_values_normalised = np.expand_dims(next_day_low_values_normalised, -1)\n",
    "    next_day_low_values = np.array([data[:, 2][i + history_points].copy() for i in range(len(data) - history_points)])\n",
    "    next_day_low_values = np.expand_dims(next_day_low_values, -1)\n",
    "    \n",
    "    next_day_close_values_normalised = np.array([data_normalised[:, 3][i + history_points].copy() for i in range(len(data_normalised) - history_points)])\n",
    "    next_day_close_values_normalised = np.expand_dims(next_day_close_values_normalised, -1)\n",
    "    next_day_close_values = np.array([data[:, 3][i + history_points].copy() for i in range(len(data) - history_points)])\n",
    "    next_day_close_values = np.expand_dims(next_day_close_values, -1)\n",
    "    \n",
    "    y_normaliser = preprocessing.MinMaxScaler()\n",
    "    y_open = y_normaliser.fit(next_day_open_values)\n",
    "    y_high = y_normaliser.fit(next_day_high_values)\n",
    "    y_low = y_normaliser.fit(next_day_low_values)\n",
    "    y_close = y_normaliser.fit(next_day_close_values)\n",
    "\n",
    "    def calc_ema(values, time_period):\n",
    "        # https://www.investopedia.com/ask/answers/122314/what-exponential-moving-average-ema-formula-and-how-ema-calculated.asp\n",
    "        sma = np.mean(values[:, 3])\n",
    "        ema_values = [sma]\n",
    "        k = 2 / (1 + time_period)\n",
    "        for i in range(len(his) - time_period, len(his)):\n",
    "            close = his[i][3]\n",
    "            ema_values.append(close * k + ema_values[-1] * (1 - k))\n",
    "        return ema_values[-1]\n",
    "\n",
    "    technical_indicators = []\n",
    "    for his in ohlcv_histories_normalised:\n",
    "        # note since we are using his[3] we are taking the SMA of the closing price\n",
    "        sma = np.mean(his[:, 3])\n",
    "        macd = calc_ema(his, 12) - calc_ema(his, 26)\n",
    "#         technical_indicators.append(np.array([sma]))\n",
    "        technical_indicators.append(np.array([sma,macd,]))\n",
    "\n",
    "    technical_indicators = np.array(technical_indicators)\n",
    "\n",
    "    tech_ind_scaler = preprocessing.MinMaxScaler()\n",
    "    technical_indicators_normalised = tech_ind_scaler.fit_transform(technical_indicators)\n",
    "    \n",
    "\n",
    "    def calculate_x_day_average(history_points,column):\n",
    "        average_x_day_price = []    \n",
    "        for i in range(len(data_normalised) - history_points):\n",
    "            average_x_day_price.append(data_normalised[:,column][i:i+history_points].mean())       \n",
    "        return average_x_day_price\n",
    "\n",
    "    a = calculate_x_day_average(history_points,0)\n",
    "    b = calculate_x_day_average(history_points,1)\n",
    "    c = calculate_x_day_average(history_points,2)\n",
    "    d = calculate_x_day_average(history_points,3)\n",
    "    x_day_mean_indicator = np.array([a,b,c,d]).T\n",
    "    \n",
    "    assert ohlcv_histories_normalised.shape[0] == next_day_open_values_normalised.shape[0] \\\n",
    "    == next_day_high_values_normalised.shape[0] == next_day_low_values_normalised.shape[0] \\\n",
    "    == next_day_close_values_normalised.shape[0] == technical_indicators_normalised.shape[0] == x_day_mean_indicator.shape[0]\n",
    "    return ohlcv_histories_normalised, technical_indicators_normalised, \\\n",
    "    next_day_open_values_normalised, next_day_open_values, \\\n",
    "    next_day_high_values_normalised, next_day_high_values, \\\n",
    "    next_day_low_values_normalised, next_day_low_values, \\\n",
    "    next_day_close_values_normalised, next_day_close_values, x_day_mean_indicator, \\\n",
    "    y_open, y_high, y_low, y_close\n",
    "\n"
   ]
  },
  {
   "cell_type": "markdown",
   "metadata": {},
   "source": [
    "# Use past prices as input only"
   ]
  },
  {
   "cell_type": "code",
   "execution_count": 384,
   "metadata": {},
   "outputs": [
    {
     "name": "stdout",
     "output_type": "stream",
     "text": [
      "(693, 30, 5) (693, 1)\n",
      "(77, 30, 5) (77, 1)\n"
     ]
    }
   ],
   "source": [
    "# Get the dataset we have the csv file\n",
    "ohlcv_histories_normalised, technical_indicators_normalised, \\\n",
    "    next_day_open_values_normalised, next_day_open_values, \\\n",
    "    next_day_high_values_normalised, next_day_high_values, \\\n",
    "    next_day_low_values_normalised, next_day_low_values, \\\n",
    "    next_day_close_values_normalised, next_day_close_values, x_day_mean_indicator, \\\n",
    "    y_open, y_high, y_low, y_close = csv_to_dataset('history_k_data.csv')\n",
    "\n",
    "test_split = 0.9 # the percent of data to be used for training\n",
    "n = int(ohlcv_histories_normalised.shape[0] * test_split)\n",
    "\n",
    "# splitting the dataset up into train and test sets\n",
    "\n",
    "ohlcv_train = ohlcv_histories_normalised[:n]\n",
    "y_train = next_day_open_values_normalised[:n]\n",
    "# y_train = next_day_high_values_normalised[:n]\n",
    "# y_train = next_day_low_values_normalised[:n]\n",
    "# y_train = next_day_close_values_normalised[:n]\n",
    "\n",
    "ohlcv_test = ohlcv_histories_normalised[n:]\n",
    "y_test = next_day_open_values_normalised[n:]\n",
    "# y_test = next_day_high_values_normalised[n:]\n",
    "# y_test = next_day_low_values_normalised[n:]\n",
    "# y_test = next_day_close_values_normalised[n:]\n",
    "\n",
    "\n",
    "unscaled_y_test = next_day_open_values[n:]\n",
    "# unscaled_y_test = next_day_high_values[n:]\n",
    "# unscaled_y_test = next_day_low_values[n:]\n",
    "# unscaled_y_test = next_day_close_values[n:]\n",
    "\n",
    "print(ohlcv_train.shape, y_train.shape)\n",
    "print(ohlcv_test.shape, y_test.shape)"
   ]
  },
  {
   "cell_type": "code",
   "execution_count": 385,
   "metadata": {},
   "outputs": [],
   "source": [
    "# pip install keras\n",
    "# pip install tensorflow\n",
    "# conda install GraphViz --channel conda-forge -y"
   ]
  },
  {
   "cell_type": "code",
   "execution_count": 386,
   "metadata": {},
   "outputs": [
    {
     "data": {
      "image/png": "[encoded data removed]",
      "text/plain": [
       "<IPython.core.display.Image object>"
      ]
     },
     "execution_count": 386,
     "metadata": {},
     "output_type": "execute_result"
    }
   ],
   "source": [
    "# Model\n",
    "\n",
    "# basic model\n",
    "import keras\n",
    "import tensorflow as tf\n",
    "from keras.models import Model\n",
    "from keras.layers import Dense, Dropout, LSTM, Input, Activation, concatenate\n",
    "from keras import optimizers\n",
    "import numpy as np\n",
    "np.random.seed(4)\n",
    "import tensorflow as  tf\n",
    "tf.random.set_seed(4)\n",
    "\n",
    "lstm_input = Input(shape=(history_points, 5), name='lstm_input')\n",
    "x = LSTM(50, name='lstm_0')(lstm_input)\n",
    "x = Dropout(0.2, name='lstm_dropout_0')(x)\n",
    "x = Dense(16, name='dense_0')(x)\n",
    "x = Activation('sigmoid', name='sigmoid_0')(x)\n",
    "x = Dense(1, name='dense_1')(x)\n",
    "output = Activation('linear', name='linear_output')(x)\n",
    "model = Model(inputs=lstm_input, outputs=output)\n",
    "\n",
    "adam = optimizers.Adam(lr=0.01)\n",
    "\n",
    "model.compile(optimizer=adam, loss='mse')\n",
    "\n",
    "from keras.utils import plot_model\n",
    "import os\n",
    "os.environ[\"PATH\"] += os.pathsep + 'C:\\Program Files (x86)\\Graphviz2.38\\bin'  # path of graphviz installed (https://www.graphviz.org/)\n",
    "plot_model(model, to_file='model.png')\n",
    "\n"
   ]
  },
  {
   "cell_type": "code",
   "execution_count": 387,
   "metadata": {
    "scrolled": true
   },
   "outputs": [
    {
     "name": "stdout",
     "output_type": "stream",
     "text": [
      "Train on 623 samples, validate on 70 samples\n",
      "Epoch 1/50\n",
      "623/623 [==============================] - 1s 2ms/step - loss: 0.0375 - val_loss: 6.3063e-04\n",
      "Epoch 2/50\n",
      "623/623 [==============================] - 1s 1ms/step - loss: 0.0070 - val_loss: 0.0050\n",
      "Epoch 3/50\n",
      "623/623 [==============================] - 1s 1ms/step - loss: 0.0039 - val_loss: 8.1723e-05\n",
      "Epoch 4/50\n",
      "623/623 [==============================] - 1s 1ms/step - loss: 0.0019 - val_loss: 1.9529e-05\n",
      "Epoch 5/50\n",
      "623/623 [==============================] - 1s 1ms/step - loss: 0.0018 - val_loss: 2.7174e-05\n",
      "Epoch 6/50\n",
      "623/623 [==============================] - 1s 2ms/step - loss: 0.0017 - val_loss: 4.2440e-04\n",
      "Epoch 7/50\n",
      "623/623 [==============================] - 1s 1ms/step - loss: 0.0020 - val_loss: 1.3117e-05\n",
      "Epoch 8/50\n",
      "623/623 [==============================] - 1s 886us/step - loss: 0.0015 - val_loss: 2.9511e-05\n",
      "Epoch 9/50\n",
      "623/623 [==============================] - 1s 1ms/step - loss: 0.0015 - val_loss: 2.3227e-05\n",
      "Epoch 10/50\n",
      "623/623 [==============================] - 1s 1ms/step - loss: 0.0016 - val_loss: 6.3274e-05\n",
      "Epoch 11/50\n",
      "623/623 [==============================] - 1s 1ms/step - loss: 0.0015 - val_loss: 3.1444e-05\n",
      "Epoch 12/50\n",
      "623/623 [==============================] - 1s 1ms/step - loss: 0.0013 - val_loss: 1.9485e-05\n",
      "Epoch 13/50\n",
      "623/623 [==============================] - 1s 1ms/step - loss: 0.0013 - val_loss: 2.3156e-04\n",
      "Epoch 14/50\n",
      "623/623 [==============================] - 1s 1ms/step - loss: 0.0014 - val_loss: 1.2389e-05\n",
      "Epoch 15/50\n",
      "623/623 [==============================] - 1s 2ms/step - loss: 0.0015 - val_loss: 1.5932e-04\n",
      "Epoch 16/50\n",
      "623/623 [==============================] - 1s 1ms/step - loss: 0.0015 - val_loss: 1.7671e-04\n",
      "Epoch 17/50\n",
      "623/623 [==============================] - 1s 1ms/step - loss: 0.0012 - val_loss: 1.6380e-04\n",
      "Epoch 18/50\n",
      "623/623 [==============================] - 1s 1ms/step - loss: 0.0014 - val_loss: 7.1443e-05\n",
      "Epoch 19/50\n",
      "623/623 [==============================] - 1s 1ms/step - loss: 0.0011 - val_loss: 2.7942e-05\n",
      "Epoch 20/50\n",
      "623/623 [==============================] - 1s 1ms/step - loss: 9.7150e-04 - val_loss: 3.1712e-04\n",
      "Epoch 21/50\n",
      "623/623 [==============================] - 1s 1ms/step - loss: 0.0013 - val_loss: 4.3200e-05\n",
      "Epoch 22/50\n",
      "623/623 [==============================] - 1s 1ms/step - loss: 0.0015 - val_loss: 9.6380e-06\n",
      "Epoch 23/50\n",
      "623/623 [==============================] - 1s 894us/step - loss: 0.0011 - val_loss: 1.9670e-04\n",
      "Epoch 24/50\n",
      "623/623 [==============================] - 1s 2ms/step - loss: 0.0011 - val_loss: 2.3805e-05\n",
      "Epoch 25/50\n",
      "623/623 [==============================] - 1s 920us/step - loss: 0.0011 - val_loss: 8.6784e-06\n",
      "Epoch 26/50\n",
      "623/623 [==============================] - 1s 2ms/step - loss: 0.0011 - val_loss: 2.2158e-05\n",
      "Epoch 27/50\n",
      "623/623 [==============================] - 1s 1ms/step - loss: 0.0011 - val_loss: 1.5814e-04\n",
      "Epoch 28/50\n",
      "623/623 [==============================] - 1s 1ms/step - loss: 0.0011 - val_loss: 1.3970e-05\n",
      "Epoch 29/50\n",
      "623/623 [==============================] - 1s 1ms/step - loss: 0.0013 - val_loss: 1.8105e-04\n",
      "Epoch 30/50\n",
      "623/623 [==============================] - 1s 1ms/step - loss: 9.8884e-04 - val_loss: 4.8202e-04\n",
      "Epoch 31/50\n",
      "623/623 [==============================] - 1s 1ms/step - loss: 0.0010 - val_loss: 7.3007e-05\n",
      "Epoch 32/50\n",
      "623/623 [==============================] - 1s 1ms/step - loss: 0.0013 - val_loss: 1.3499e-05\n",
      "Epoch 33/50\n",
      "623/623 [==============================] - 1s 1ms/step - loss: 0.0010 - val_loss: 4.5971e-05\n",
      "Epoch 34/50\n",
      "623/623 [==============================] - 1s 1ms/step - loss: 0.0010 - val_loss: 7.7202e-05\n",
      "Epoch 35/50\n",
      "623/623 [==============================] - 1s 1ms/step - loss: 0.0011 - val_loss: 3.1983e-05\n",
      "Epoch 36/50\n",
      "623/623 [==============================] - 1s 1ms/step - loss: 0.0011 - val_loss: 8.4182e-04\n",
      "Epoch 37/50\n",
      "623/623 [==============================] - 1s 1ms/step - loss: 0.0012 - val_loss: 3.4515e-05\n",
      "Epoch 38/50\n",
      "623/623 [==============================] - 1s 1ms/step - loss: 0.0010 - val_loss: 1.8299e-04\n",
      "Epoch 39/50\n",
      "623/623 [==============================] - 1s 1ms/step - loss: 0.0011 - val_loss: 8.3777e-06\n",
      "Epoch 40/50\n",
      "623/623 [==============================] - 1s 981us/step - loss: 0.0014 - val_loss: 4.8012e-04\n",
      "Epoch 41/50\n",
      "623/623 [==============================] - 1s 1ms/step - loss: 0.0012 - val_loss: 3.4790e-05\n",
      "Epoch 42/50\n",
      "623/623 [==============================] - 1s 1ms/step - loss: 0.0011 - val_loss: 7.8621e-04\n",
      "Epoch 43/50\n",
      "623/623 [==============================] - 1s 1ms/step - loss: 0.0011 - val_loss: 3.4039e-05\n",
      "Epoch 44/50\n",
      "623/623 [==============================] - 1s 1ms/step - loss: 0.0014 - val_loss: 5.7922e-04\n",
      "Epoch 45/50\n",
      "623/623 [==============================] - 1s 1ms/step - loss: 0.0016 - val_loss: 5.7884e-04\n",
      "Epoch 46/50\n",
      "623/623 [==============================] - 0s 801us/step - loss: 0.0010 - val_loss: 8.7075e-06\n",
      "Epoch 47/50\n",
      "623/623 [==============================] - 1s 884us/step - loss: 0.0011 - val_loss: 4.8931e-05\n",
      "Epoch 48/50\n",
      "623/623 [==============================] - 1s 1ms/step - loss: 0.0010 - val_loss: 3.3576e-04\n",
      "Epoch 49/50\n",
      "623/623 [==============================] - 1s 1ms/step - loss: 9.4408e-04 - val_loss: 3.6199e-05\n",
      "Epoch 50/50\n",
      "623/623 [==============================] - 1s 1ms/step - loss: 8.4226e-04 - val_loss: 1.7525e-04\n",
      "77/77 [==============================] - 0s 221us/step\n",
      "0.0012409542762831629\n"
     ]
    }
   ],
   "source": [
    "# Training\n",
    "# fit the model\n",
    "model.fit(x=ohlcv_train, y=y_train, batch_size=32, epochs=50, shuffle=True, validation_split=0.1)\n",
    "evaluation = model.evaluate(ohlcv_test, y_test)\n",
    "print(evaluation)"
   ]
  },
  {
   "cell_type": "code",
   "execution_count": 388,
   "metadata": {},
   "outputs": [
    {
     "name": "stdout",
     "output_type": "stream",
     "text": [
      "11.329398258820794\n"
     ]
    }
   ],
   "source": [
    "# Evaluation\n",
    "\n",
    "y_test_predicted = model.predict(ohlcv_test)\n",
    "# model.predict returns normalised values\n",
    "# now we scale them back up using the y_normaliser from before\n",
    "y_test_predicted = y_open.inverse_transform(y_test_predicted)\n",
    "\n",
    "# also getting predictions for the entire dataset, just to see how it performs\n",
    "y_predicted = model.predict(ohlcv_histories_normalised)\n",
    "y_predicted = y_open.inverse_transform(y_predicted)\n",
    "\n",
    "assert unscaled_y_test.shape == y_test_predicted.shape\n",
    "real_mse = np.mean(np.square(unscaled_y_test - y_test_predicted))\n",
    "scaled_mse = real_mse / (np.max(unscaled_y_test) - np.min(unscaled_y_test)) * 100\n",
    "print(scaled_mse)\n"
   ]
  },
  {
   "cell_type": "code",
   "execution_count": 389,
   "metadata": {},
   "outputs": [],
   "source": [
    "# import matplotlib.pyplot as plt\n",
    "# plt.gcf().set_size_inches(22, 15, forward=True)\n",
    "\n",
    "# start = 0\n",
    "# end = -1\n",
    "\n",
    "# real = plt.plot(unscaled_y_test[start:end], label='real')\n",
    "# pred = plt.plot(y_test_predicted[start:end], label='predicted')\n",
    "\n",
    "# plt.legend(['Real', 'Predicted'])\n",
    "\n",
    "# plt.show()"
   ]
  },
  {
   "cell_type": "code",
   "execution_count": 390,
   "metadata": {},
   "outputs": [
    {
     "name": "stdout",
     "output_type": "stream",
     "text": [
      "[38.03]\n",
      "[38.83183]\n"
     ]
    }
   ],
   "source": [
    "print(unscaled_y_test[-1])\n",
    "print(y_test_predicted[-1])"
   ]
  },
  {
   "cell_type": "markdown",
   "metadata": {},
   "source": [
    "# Use past prices and 2 technical indicators as input"
   ]
  },
  {
   "cell_type": "code",
   "execution_count": 391,
   "metadata": {},
   "outputs": [
    {
     "name": "stdout",
     "output_type": "stream",
     "text": [
      "(693, 30, 5)\n",
      "(77, 30, 5)\n",
      "(77, 1)\n",
      "(693, 2)\n",
      "(77, 2)\n"
     ]
    }
   ],
   "source": [
    "# Get the dataset we have the csv file\n",
    "ohlcv_histories_normalised, technical_indicators_normalised, \\\n",
    "    next_day_open_values_normalised, next_day_open_values, \\\n",
    "    next_day_high_values_normalised, next_day_high_values, \\\n",
    "    next_day_low_values_normalised, next_day_low_values, \\\n",
    "    next_day_close_values_normalised, next_day_close_values, x_day_mean_indicator, \\\n",
    "    y_open, y_high, y_low, y_close = csv_to_dataset('history_k_data.csv')\n",
    "\n",
    "test_split = 0.9 # the percent of data to be used for training\n",
    "n = int(ohlcv_histories_normalised.shape[0] * test_split)\n",
    "\n",
    "# splitting the dataset up into train and test sets\n",
    "\n",
    "ohlcv_train = ohlcv_histories_normalised[:n]\n",
    "y_train = next_day_open_values_normalised[:n]\n",
    "# y_train = next_day_high_values_normalised[:n]\n",
    "# y_train = next_day_low_values_normalised[:n]\n",
    "# y_train = next_day_close_values_normalised[:n]\n",
    "\n",
    "ohlcv_test = ohlcv_histories_normalised[n:]\n",
    "y_test = next_day_open_values_normalised[n:]\n",
    "# y_test = next_day_high_values_normalised[n:]\n",
    "# y_test = next_day_low_values_normalised[n:]\n",
    "# y_test = next_day_close_values_normalised[n:]\n",
    "\n",
    "\n",
    "unscaled_y_test = next_day_open_values[n:]\n",
    "# unscaled_y_test = next_day_high_values[n:]\n",
    "# unscaled_y_test = next_day_low_values[n:]\n",
    "# unscaled_y_test = next_day_close_values[n:]\n",
    "\n",
    "\n",
    "tech_ind_train = technical_indicators_normalised[:n]\n",
    "tech_ind_test = technical_indicators_normalised[n:]\n",
    "\n",
    "\n",
    "print(ohlcv_train.shape)\n",
    "print(ohlcv_test.shape)\n",
    "print(unscaled_y_test.shape)\n",
    "print(tech_ind_train.shape)\n",
    "print(tech_ind_test.shape)"
   ]
  },
  {
   "cell_type": "code",
   "execution_count": 392,
   "metadata": {},
   "outputs": [
    {
     "data": {
      "image/png": "[encoded data removed]",
      "text/plain": [
       "<IPython.core.display.Image object>"
      ]
     },
     "execution_count": 392,
     "metadata": {},
     "output_type": "execute_result"
    }
   ],
   "source": [
    "# Improved model including the technical indicators\n",
    "import keras\n",
    "import tensorflow as tf\n",
    "from keras.models import Model\n",
    "from keras.layers import Dense, Dropout, LSTM, Input, Activation, concatenate\n",
    "from keras import optimizers\n",
    "import numpy as np\n",
    "np.random.seed(4)\n",
    "import tensorflow as  tf\n",
    "tf.random.set_seed(4)\n",
    "\n",
    "# define two sets of inputs\n",
    "lstm_input = Input(shape=(history_points, 5), name='lstm_input')\n",
    "dense_input = Input(shape=(technical_indicators_normalised.shape[1],), name='tech_input')\n",
    " \n",
    "# the first branch operates on the first input\n",
    "x = LSTM(50, name='lstm_0')(lstm_input)\n",
    "x = Dropout(0.2, name='lstm_dropout_0')(x)\n",
    "lstm_branch = Model(inputs=lstm_input, outputs=x)\n",
    " \n",
    "# the second branch opreates on the second input\n",
    "y = Dense(12, name='tech_dense_0')(dense_input)\n",
    "y = Activation(\"relu\", name='tech_relu_0')(y)\n",
    "y = Dropout(0.2, name='tech_dropout_0')(y)\n",
    "technical_indicators_branch = Model(inputs=dense_input, outputs=y)\n",
    " \n",
    "# combine the output of the two branches\n",
    "combined = concatenate([lstm_branch.output, technical_indicators_branch.output], name='concatenate')\n",
    " \n",
    "z = Dense(26, activation=\"sigmoid\", name='dense_pooling')(combined)\n",
    "z = Dense(1, activation=\"linear\", name='dense_out')(z)\n",
    " \n",
    "# our model will accept the inputs of the two branches and then output a single value\n",
    "model = Model(inputs=[lstm_branch.input, technical_indicators_branch.input], outputs=z)\n",
    "\n",
    "adam = optimizers.Adam(lr=0.01)\n",
    "\n",
    "model.compile(optimizer=adam,\n",
    "              loss='mse')\n",
    "\n",
    "from keras.utils import plot_model\n",
    "import os\n",
    "os.environ[\"PATH\"] += os.pathsep + 'C:\\Program Files (x86)\\Graphviz2.38\\bin'  # path of graphviz installed (https://www.graphviz.org/)\n",
    "plot_model(model, to_file='model.png', show_shapes=True)"
   ]
  },
  {
   "cell_type": "code",
   "execution_count": 393,
   "metadata": {
    "scrolled": true
   },
   "outputs": [
    {
     "name": "stdout",
     "output_type": "stream",
     "text": [
      "Train on 623 samples, validate on 70 samples\n",
      "Epoch 1/50\n",
      "623/623 [==============================] - 1s 2ms/step - loss: 0.0514 - val_loss: 0.0024\n",
      "Epoch 2/50\n",
      "623/623 [==============================] - 0s 541us/step - loss: 0.0063 - val_loss: 3.1549e-05\n",
      "Epoch 3/50\n",
      "623/623 [==============================] - 0s 504us/step - loss: 0.0027 - val_loss: 2.8049e-04\n",
      "Epoch 4/50\n",
      "623/623 [==============================] - 0s 565us/step - loss: 0.0021 - val_loss: 2.8244e-04\n",
      "Epoch 5/50\n",
      "623/623 [==============================] - 0s 589us/step - loss: 0.0018 - val_loss: 1.0311e-04\n",
      "Epoch 6/50\n",
      "623/623 [==============================] - 0s 613us/step - loss: 0.0020 - val_loss: 7.2389e-05\n",
      "Epoch 7/50\n",
      "623/623 [==============================] - 0s 588us/step - loss: 0.0022 - val_loss: 1.3799e-04\n",
      "Epoch 8/50\n",
      "623/623 [==============================] - 1s 941us/step - loss: 0.0019 - val_loss: 5.9030e-05\n",
      "Epoch 9/50\n",
      "623/623 [==============================] - 0s 604us/step - loss: 0.0017 - val_loss: 3.3317e-04\n",
      "Epoch 10/50\n",
      "623/623 [==============================] - 0s 657us/step - loss: 0.0016 - val_loss: 4.9415e-04\n",
      "Epoch 11/50\n",
      "623/623 [==============================] - 0s 767us/step - loss: 0.0014 - val_loss: 1.9436e-05\n",
      "Epoch 12/50\n",
      "623/623 [==============================] - 0s 647us/step - loss: 0.0014 - val_loss: 1.4557e-05\n",
      "Epoch 13/50\n",
      "623/623 [==============================] - 0s 657us/step - loss: 0.0013 - val_loss: 2.9740e-04\n",
      "Epoch 14/50\n",
      "623/623 [==============================] - 0s 708us/step - loss: 0.0014 - val_loss: 3.2696e-05\n",
      "Epoch 15/50\n",
      "623/623 [==============================] - 0s 653us/step - loss: 0.0015 - val_loss: 7.8597e-05\n",
      "Epoch 16/50\n",
      "623/623 [==============================] - 0s 657us/step - loss: 0.0014 - val_loss: 3.1494e-05\n",
      "Epoch 17/50\n",
      "623/623 [==============================] - 0s 719us/step - loss: 0.0013 - val_loss: 8.1642e-06\n",
      "Epoch 18/50\n",
      "623/623 [==============================] - 0s 671us/step - loss: 0.0013 - val_loss: 2.4304e-05\n",
      "Epoch 19/50\n",
      "623/623 [==============================] - 0s 660us/step - loss: 0.0012 - val_loss: 3.8135e-04\n",
      "Epoch 20/50\n",
      "623/623 [==============================] - 0s 655us/step - loss: 0.0012 - val_loss: 2.9918e-05\n",
      "Epoch 21/50\n",
      "623/623 [==============================] - 0s 615us/step - loss: 0.0014 - val_loss: 2.9407e-04\n",
      "Epoch 22/50\n",
      "623/623 [==============================] - 0s 591us/step - loss: 0.0016 - val_loss: 5.2557e-05\n",
      "Epoch 23/50\n",
      "623/623 [==============================] - 0s 666us/step - loss: 0.0014 - val_loss: 3.3291e-04\n",
      "Epoch 24/50\n",
      "623/623 [==============================] - 0s 571us/step - loss: 0.0013 - val_loss: 6.2401e-05\n",
      "Epoch 25/50\n",
      "623/623 [==============================] - 0s 589us/step - loss: 0.0013 - val_loss: 1.9964e-04\n",
      "Epoch 26/50\n",
      "623/623 [==============================] - 0s 718us/step - loss: 0.0012 - val_loss: 3.3178e-05\n",
      "Epoch 27/50\n",
      "623/623 [==============================] - 0s 685us/step - loss: 0.0012 - val_loss: 5.2081e-04\n",
      "Epoch 28/50\n",
      "623/623 [==============================] - 0s 645us/step - loss: 0.0013 - val_loss: 1.2618e-05\n",
      "Epoch 29/50\n",
      "623/623 [==============================] - 0s 652us/step - loss: 0.0013 - val_loss: 1.4917e-04\n",
      "Epoch 30/50\n",
      "623/623 [==============================] - 0s 602us/step - loss: 0.0014 - val_loss: 0.0012\n",
      "Epoch 31/50\n",
      "623/623 [==============================] - 0s 644us/step - loss: 0.0013 - val_loss: 1.3663e-05\n",
      "Epoch 32/50\n",
      "623/623 [==============================] - 0s 596us/step - loss: 0.0014 - val_loss: 1.7577e-05\n",
      "Epoch 33/50\n",
      "623/623 [==============================] - 0s 594us/step - loss: 0.0010 - val_loss: 1.4209e-04\n",
      "Epoch 34/50\n",
      "623/623 [==============================] - 0s 608us/step - loss: 0.0012 - val_loss: 9.4230e-05\n",
      "Epoch 35/50\n",
      "623/623 [==============================] - 0s 546us/step - loss: 0.0014 - val_loss: 6.2672e-05\n",
      "Epoch 36/50\n",
      "623/623 [==============================] - 0s 576us/step - loss: 0.0010 - val_loss: 3.1696e-04\n",
      "Epoch 37/50\n",
      "623/623 [==============================] - 0s 525us/step - loss: 0.0013 - val_loss: 0.0012\n",
      "Epoch 38/50\n",
      "623/623 [==============================] - 0s 533us/step - loss: 0.0011 - val_loss: 4.4907e-05\n",
      "Epoch 39/50\n",
      "623/623 [==============================] - 0s 573us/step - loss: 9.0077e-04 - val_loss: 2.0966e-04\n",
      "Epoch 40/50\n",
      "623/623 [==============================] - 0s 535us/step - loss: 0.0012 - val_loss: 1.2351e-04\n",
      "Epoch 41/50\n",
      "623/623 [==============================] - 0s 514us/step - loss: 0.0011 - val_loss: 1.5588e-04\n",
      "Epoch 42/50\n",
      "623/623 [==============================] - 0s 527us/step - loss: 0.0013 - val_loss: 0.0013\n",
      "Epoch 43/50\n",
      "623/623 [==============================] - 0s 551us/step - loss: 0.0012 - val_loss: 4.2709e-05\n",
      "Epoch 44/50\n",
      "623/623 [==============================] - 0s 562us/step - loss: 0.0011 - val_loss: 0.0014\n",
      "Epoch 45/50\n",
      "623/623 [==============================] - 0s 560us/step - loss: 0.0017 - val_loss: 1.6301e-05\n",
      "Epoch 46/50\n",
      "623/623 [==============================] - 0s 588us/step - loss: 0.0014 - val_loss: 8.5334e-05\n",
      "Epoch 47/50\n",
      "623/623 [==============================] - 0s 518us/step - loss: 0.0011 - val_loss: 8.4872e-06\n",
      "Epoch 48/50\n",
      "623/623 [==============================] - 0s 506us/step - loss: 0.0010 - val_loss: 9.3247e-05\n",
      "Epoch 49/50\n",
      "623/623 [==============================] - 0s 551us/step - loss: 9.8741e-04 - val_loss: 2.2236e-05\n",
      "Epoch 50/50\n",
      "623/623 [==============================] - 0s 565us/step - loss: 9.6330e-04 - val_loss: 1.2861e-04\n",
      "77/77 [==============================] - 0s 208us/step\n",
      "0.0012119603728839232\n"
     ]
    }
   ],
   "source": [
    "# Training\n",
    "# fit the model\n",
    "model.fit(x=[ohlcv_train, tech_ind_train], y=y_train, batch_size=32, epochs=50, shuffle=True, validation_split=0.1)\n",
    "evaluation = model.evaluate([ohlcv_test, tech_ind_test], y_test)\n",
    "print(evaluation)"
   ]
  },
  {
   "cell_type": "code",
   "execution_count": 394,
   "metadata": {},
   "outputs": [
    {
     "name": "stdout",
     "output_type": "stream",
     "text": [
      "11.051383820113017\n"
     ]
    }
   ],
   "source": [
    "# Evaluation\n",
    "\n",
    "y_test_predicted = model.predict([ohlcv_test, tech_ind_test])\n",
    "# model.predict returns normalised values\n",
    "# now we scale them back up using the y_normaliser from before\n",
    "y_test_predicted = y_open.inverse_transform(y_test_predicted)\n",
    "\n",
    "# also getting predictions for the entire dataset, just to see how it performs\n",
    "y_predicted = model.predict([ohlcv_histories_normalised, technical_indicators_normalised])\n",
    "y_predicted = y_open.inverse_transform(y_predicted)\n",
    "\n",
    "assert unscaled_y_test.shape == y_test_predicted.shape\n",
    "real_mse = np.mean(np.square(unscaled_y_test - y_test_predicted))\n",
    "scaled_mse = real_mse / (np.max(unscaled_y_test) - np.min(unscaled_y_test)) * 100\n",
    "print(scaled_mse)\n"
   ]
  },
  {
   "cell_type": "code",
   "execution_count": 395,
   "metadata": {},
   "outputs": [
    {
     "name": "stdout",
     "output_type": "stream",
     "text": [
      "[38.03]\n",
      "[38.649513]\n"
     ]
    }
   ],
   "source": [
    "print(unscaled_y_test[-1])\n",
    "print(y_test_predicted[-1])"
   ]
  },
  {
   "cell_type": "code",
   "execution_count": 396,
   "metadata": {},
   "outputs": [],
   "source": [
    "# import matplotlib.pyplot as plt\n",
    "# plt.gcf().set_size_inches(22, 15, forward=True)\n",
    "\n",
    "# start = 0\n",
    "# end = -1\n",
    "\n",
    "# real = plt.plot(unscaled_y_test[start:end], label='real')\n",
    "# pred = plt.plot(y_test_predicted[start:end], label='predicted')\n",
    "\n",
    "# plt.legend(['Real', 'Predicted'])\n",
    "\n",
    "# plt.show()"
   ]
  },
  {
   "cell_type": "markdown",
   "metadata": {},
   "source": [
    "# Part 2: Calculate the correlation coefficients between x-days average prices and the next-day prices - example with the specific stock \"sz.002838\""
   ]
  },
  {
   "cell_type": "code",
   "execution_count": 397,
   "metadata": {
    "scrolled": false
   },
   "outputs": [
    {
     "name": "stdout",
     "output_type": "stream",
     "text": [
      "login success!\n",
      "login respond error_code:0\n",
      "login respond  error_msg:success\n",
      "query_history_k_data_plus respond error_code:0\n",
      "query_history_k_data_plus respond  error_msg:success\n",
      "           date     open     high      low    close    volume\n",
      "0    2017-01-06  18.3400  22.0000  18.3400  22.0000      7021\n",
      "1    2017-01-09  24.2000  24.2000  24.2000  24.2000      2721\n",
      "2    2017-01-10  26.6200  26.6200  26.6200  26.6200      2000\n",
      "3    2017-01-11  29.2800  29.2800  29.2800  29.2800      6200\n",
      "4    2017-01-12  32.2100  32.2100  32.2100  32.2100      6921\n",
      "..          ...      ...      ...      ...      ...       ...\n",
      "796  2020-04-16  40.6900  41.4500  38.7000  39.2500  28623287\n",
      "797  2020-04-17  39.5000  39.9100  37.8000  38.2800  25541813\n",
      "798  2020-04-20  37.8100  39.0800  36.7100  38.6400  24013819\n",
      "799  2020-04-21  38.3400  41.1300  37.8300  38.7200  28839858\n",
      "800  2020-04-22  38.0300  39.2000  37.2600  38.1000  16671958\n",
      "\n",
      "[801 rows x 6 columns]\n",
      "logout success!\n"
     ]
    },
    {
     "data": {
      "text/plain": [
       "<baostock.data.resultset.ResultData at 0x1f2aec2a608>"
      ]
     },
     "execution_count": 397,
     "metadata": {},
     "output_type": "execute_result"
    }
   ],
   "source": [
    "# Dataset\n",
    "# In this case, we are going to use one stock of the Chinese stock market, u may need to install the api package first\n",
    "# pip install baostock -i https://pypi.tuna.tsinghua.edu.cn/simple/ --trusted-host pypi.tuna.tsinghua.edu.cn\n",
    "import baostock as bs\n",
    "import pandas as pd\n",
    "\n",
    "#### Login to baostock api ####\n",
    "lg = bs.login()\n",
    "# display feedback of login\n",
    "print('login respond error_code:'+lg.error_code)\n",
    "print('login respond  error_msg:'+lg.error_msg)\n",
    "\n",
    "#### Get stock history of A-share of mainland China  ####\n",
    "rs = bs.query_history_k_data_plus(\"sz.002838\",#change the specific stock ID in the quotation mark\n",
    "    \"date,open,high,low,close,volume\",\n",
    "    start_date='2000-01-01', end_date='2020-04-22', #change the period that we want to aquire the daily data\n",
    "    frequency=\"d\", adjustflag=\"3\") \n",
    "print('query_history_k_data_plus respond error_code:'+rs.error_code)\n",
    "print('query_history_k_data_plus respond  error_msg:'+rs.error_msg)\n",
    "\n",
    "#### Output the dataset ####\n",
    "data_list = []\n",
    "while (rs.error_code == '0') & rs.next():\n",
    "    # Request each entry and append them\n",
    "    data_list.append(rs.get_row_data())\n",
    "result = pd.DataFrame(data_list, columns=rs.fields)\n",
    "#### Save the data as csv ####\n",
    "result.to_csv(\"history_k_data.csv\", encoding=\"gbk\", index=False)\n",
    "print(result)\n",
    "\n",
    "#### Logout from baostock api ####\n",
    "bs.logout()"
   ]
  },
  {
   "cell_type": "code",
   "execution_count": 398,
   "metadata": {},
   "outputs": [],
   "source": [
    "import pandas as pd\n",
    "import numpy as np\n",
    "\n",
    "df = pd.read_csv('history_k_data.csv')\n",
    "df = df.drop(0, axis=0)\n",
    "def calculate_x_day_average(number_of_days, column_name):\n",
    "    average_x_day = []\n",
    "    \n",
    "    for i in range(len(df[column_name])-number_of_days):\n",
    "        average_x_day.append(df[column_name][i:i+number_of_days].mean())\n",
    "        \n",
    "    return average_x_day\n",
    "\n",
    "def get_next_day_value(number_of_days, column_name):\n",
    "    next_day_value = df[column_name][number_of_days:]\n",
    "    \n",
    "    return list(next_day_value)"
   ]
  },
  {
   "cell_type": "code",
   "execution_count": 399,
   "metadata": {},
   "outputs": [],
   "source": [
    "days = [5,10,20,30,50]\n",
    "column_mean = ['open','high','low','close','volume']\n",
    "column_next_price = ['open','high','low','close']\n",
    "ls1 = [(x,y) for x in days for y in column_mean]\n",
    "ls2 = [(x,y) for x in days for y in column_next_price]\n",
    "average_x_day = []\n",
    "for i in range(len(ls1)):\n",
    "    axd = calculate_x_day_average(ls1[i][0],ls1[i][1])\n",
    "    average_x_day.append(axd)\n",
    "\n",
    "next_day_price = []\n",
    "for i in range(len(ls2)):\n",
    "    ndp = get_next_day_value(ls2[i][0],ls2[i][1])\n",
    "    next_day_price.append(ndp)"
   ]
  },
  {
   "cell_type": "code",
   "execution_count": 400,
   "metadata": {},
   "outputs": [
    {
     "data": {
      "text/plain": [
       "[(0.9882008625014848, 0.0),\n",
       " (0.9890707798973692, 0.0),\n",
       " (0.9890340271854001, 0.0),\n",
       " (0.9904303071978874, 0.0),\n",
       " (0.07868020471354156, 0.026527832992660778),\n",
       " (0.9866339218699385, 0.0),\n",
       " (0.9880456847337922, 0.0),\n",
       " (0.9871850293499564, 0.0),\n",
       " (0.989077115611033, 0.0),\n",
       " (0.097300545726109, 0.00603889702817184),\n",
       " (0.9877036257840544, 0.0),\n",
       " (0.9882071476194225, 0.0),\n",
       " (0.9886636439482797, 0.0),\n",
       " (0.989778500715351, 0.0),\n",
       " (0.0686274312035233, 0.053083914599617484),\n",
       " (0.9862197231525047, 0.0),\n",
       " (0.9871355403834643, 0.0),\n",
       " (0.9869570033541455, 0.0),\n",
       " (0.9884189523617796, 0.0),\n",
       " (0.08416606006664823, 0.01761545761760287)]"
      ]
     },
     "execution_count": 400,
     "metadata": {},
     "output_type": "execute_result"
    }
   ],
   "source": [
    "# Calculate the correlation coefficients between ohlcv mean of 5 days and the next-day prices\n",
    "\n",
    "from scipy.stats import pearsonr\n",
    "corr=[]\n",
    "for x,y in [(0,0),(1,0),(2,0),(3,0),(4,0),\n",
    "            (0,1),(1,1),(2,1),(3,1),(4,1),\n",
    "            (0,2),(1,2),(2,2),(3,2),(4,2),\n",
    "            (0,3),(1,3),(2,3),(3,3),(4,3)]:\n",
    "    co=pearsonr(average_x_day[x],next_day_price[y])\n",
    "    corr.append(co)\n",
    "corr"
   ]
  },
  {
   "cell_type": "code",
   "execution_count": 401,
   "metadata": {},
   "outputs": [
    {
     "data": {
      "text/plain": [
       "[(0.9793014684938399, 0.0),\n",
       " (0.9807406554341263, 0.0),\n",
       " (0.9799768977204956, 0.0),\n",
       " (0.9816799880723229, 0.0),\n",
       " (0.09323212404910801, 0.008740691539798293),\n",
       " (0.9767333280557022, 0.0),\n",
       " (0.9786697837079611, 0.0),\n",
       " (0.9771891813623148, 0.0),\n",
       " (0.9793170161994145, 0.0),\n",
       " (0.1120336057805148, 0.0016112107365317317),\n",
       " (0.9792074057339196, 0.0),\n",
       " (0.9803203216439966, 0.0),\n",
       " (0.9800053519911505, 0.0),\n",
       " (0.9814674488625982, 0.0),\n",
       " (0.08280541425592744, 0.019926977423530806),\n",
       " (0.9769366152399637, 0.0),\n",
       " (0.9784195694284251, 0.0),\n",
       " (0.977577073842846, 0.0),\n",
       " (0.9793132150591892, 0.0),\n",
       " (0.09773707803549217, 0.005971812954901689)]"
      ]
     },
     "execution_count": 401,
     "metadata": {},
     "output_type": "execute_result"
    }
   ],
   "source": [
    "# Calculate the correlation coefficients between ohlcv mean of 10 days and the next-day prices\n",
    "\n",
    "corr=[]\n",
    "for x,y in [(5,4),(6,4),(7,4),(8,4),(9,4),\n",
    "            (5,5),(6,5),(7,5),(8,5),(9,5),\n",
    "            (5,6),(6,6),(7,6),(8,6),(9,6),\n",
    "            (5,7),(6,7),(7,7),(8,7),(9,7)]:\n",
    "#     print(len(average_x_day[x]),len(next_day_price[y]))\n",
    "    co=pearsonr(average_x_day[x],next_day_price[y])\n",
    "    corr.append(co)\n",
    "corr"
   ]
  },
  {
   "cell_type": "code",
   "execution_count": 402,
   "metadata": {},
   "outputs": [
    {
     "data": {
      "text/plain": [
       "[(0.9605635631905323, 0.0),\n",
       " (0.9630715671677346, 0.0),\n",
       " (0.9607229938085208, 0.0),\n",
       " (0.9630497800257041, 0.0),\n",
       " (0.1176375093472346, 0.0009961807967823954),\n",
       " (0.9569272482806147, 0.0),\n",
       " (0.9599231990677846, 0.0),\n",
       " (0.9568742500950325, 0.0),\n",
       " (0.9596053356720597, 0.0),\n",
       " (0.13714565407096482, 0.00012188854901125712),\n",
       " (0.9610661710051063, 0.0),\n",
       " (0.9633198111391338, 0.0),\n",
       " (0.9613364675947255, 0.0),\n",
       " (0.9634758098955888, 0.0),\n",
       " (0.10706501139967513, 0.0027536644235543785),\n",
       " (0.9584046748052896, 0.0),\n",
       " (0.9610270870508923, 0.0),\n",
       " (0.9585036665386388, 0.0),\n",
       " (0.9609145540678404, 0.0),\n",
       " (0.12265456131578706, 0.0005968716281545321)]"
      ]
     },
     "execution_count": 402,
     "metadata": {},
     "output_type": "execute_result"
    }
   ],
   "source": [
    "# Calculate the correlation coefficients between ohlcv mean of 20 days and the next-day prices\n",
    "\n",
    "corr=[]\n",
    "for x,y in [(10,8),(11,8),(12,8),(13,8),(14,8),\n",
    "            (10,9),(11,9),(12,9),(13,9),(14,9),\n",
    "            (10,10),(11,10),(12,10),(13,10),(14,10),\n",
    "            (10,11),(11,11),(12,11),(13,11),(14,11)]:\n",
    "    co=pearsonr(average_x_day[x],next_day_price[y])\n",
    "    corr.append(co)\n",
    "corr\n"
   ]
  },
  {
   "cell_type": "code",
   "execution_count": 403,
   "metadata": {},
   "outputs": [
    {
     "data": {
      "text/plain": [
       "[(0.9395331632116506, 0.0),\n",
       " (0.9426601060836441, 0.0),\n",
       " (0.939555614532152, 0.0),\n",
       " (0.942311918768218, 0.0),\n",
       " (0.1243088723728696, 0.000545727642762159),\n",
       " (0.9348909049789343, 0.0),\n",
       " (0.9384103296233111, 0.0),\n",
       " (0.9347486989789813, 0.0),\n",
       " (0.9378311932205663, 0.0),\n",
       " (0.14331102617853916, 6.582952598329038e-05),\n",
       " (0.9407729583126787, 0.0),\n",
       " (0.9436544114508526, 0.0),\n",
       " (0.9408984490745087, 0.0),\n",
       " (0.9434599791341938, 0.0),\n",
       " (0.11331714949116109, 0.001635699755760097),\n",
       " (0.9372996483491476, 0.0),\n",
       " (0.9404811148036929, 0.0),\n",
       " (0.9372988712273325, 0.0),\n",
       " (0.9400933572571039, 0.0),\n",
       " (0.12826032950237626, 0.00035965541749324225)]"
      ]
     },
     "execution_count": 403,
     "metadata": {},
     "output_type": "execute_result"
    }
   ],
   "source": [
    "# Calculate the correlation coefficients between ohlcv mean of 30 days and the next-day prices\n",
    "\n",
    "corr=[]\n",
    "for x,y in [(15,12),(16,12),(17,12),(18,12),(19,12),\n",
    "            (15,13),(16,13),(17,13),(18,13),(19,13),\n",
    "            (15,14),(16,14),(17,14),(18,14),(19,14),\n",
    "            (15,15),(16,15),(17,15),(18,15),(19,15)]:\n",
    "    co=pearsonr(average_x_day[x],next_day_price[y])\n",
    "    corr.append(co)\n",
    "corr\n"
   ]
  },
  {
   "cell_type": "code",
   "execution_count": 404,
   "metadata": {},
   "outputs": [
    {
     "data": {
      "text/plain": [
       "[(0.8968194851503042, 3.7954163035156855e-267),\n",
       " (0.9003505967088121, 1.673599782859418e-272),\n",
       " (0.8963763713560173, 1.728137156295415e-266),\n",
       " (0.8993679966263192, 5.418608290029387e-271),\n",
       " (0.13727236980434465, 0.00016262493035085524),\n",
       " (0.8906284018803832, 3.281043045797457e-258),\n",
       " (0.8944152010947464, 1.3055585078514087e-263),\n",
       " (0.890045034112755, 2.1390379688681277e-257),\n",
       " (0.8932725228567182, 5.844402041668148e-262),\n",
       " (0.15713483618456187, 1.539077171818813e-05),\n",
       " (0.8998200094731952, 1.099259998953276e-271),\n",
       " (0.9031349168220802, 7.196747522846874e-277),\n",
       " (0.8994708380368992, 3.771859173233712e-271),\n",
       " (0.9022856104778703, 1.5957906546116274e-275),\n",
       " (0.12614303450609712, 0.0005348881964028005),\n",
       " (0.8948122882374597, 3.4485539040738e-264),\n",
       " (0.8983425270149705, 1.965429332922366e-269),\n",
       " (0.8943508118736249, 1.619308263823529e-263),\n",
       " (0.8973507360974959, 6.109923908776507e-268),\n",
       " (0.14185352646341787, 9.696345940005886e-05)]"
      ]
     },
     "execution_count": 404,
     "metadata": {},
     "output_type": "execute_result"
    }
   ],
   "source": [
    "# Calculate the correlation coefficients between ohlcv mean of 50 days and the next-day prices\n",
    "\n",
    "corr=[]\n",
    "for x,y in [(20,16),(21,16),(22,16),(23,16),(24,16),\n",
    "            (20,17),(21,17),(22,17),(23,17),(24,17),\n",
    "            (20,18),(21,18),(22,18),(23,18),(24,18),\n",
    "            (20,19),(21,19),(22,19),(23,19),(24,19)]:\n",
    "    co=pearsonr(average_x_day[x],next_day_price[y])\n",
    "    corr.append(co)\n",
    "corr\n"
   ]
  },
  {
   "cell_type": "code",
   "execution_count": 405,
   "metadata": {},
   "outputs": [],
   "source": [
    "# for i in range(0,4):\n",
    "#     for h in range(0,5):\n",
    "#         print((h,i))\n",
    "# print('\\n')\n",
    "\n",
    "# for i in range(4,8):\n",
    "#     for h in range(5,10):\n",
    "#         print((h,i))\n",
    "# print('\\n')\n",
    "\n",
    "        \n",
    "# for i in range(8,12):\n",
    "#     for h in range(10,15):\n",
    "#         print((h,i))\n",
    "# print('\\n')\n",
    "\n",
    "# for i in range(12,16):\n",
    "#     for h in range(15,20):\n",
    "#         print((h,i))\n",
    "# print('\\n')\n",
    "\n",
    "# for i in range(16,20):\n",
    "#     for h in range(20,25):\n",
    "#         print((h,i))\n"
   ]
  },
  {
   "cell_type": "markdown",
   "metadata": {},
   "source": [
    "# Part 3: Use past prices, 2 technical indicators and past x-day average prices as input"
   ]
  },
  {
   "cell_type": "code",
   "execution_count": 406,
   "metadata": {
    "scrolled": false
   },
   "outputs": [
    {
     "name": "stdout",
     "output_type": "stream",
     "text": [
      "login success!\n",
      "login respond error_code:0\n",
      "login respond  error_msg:success\n",
      "query_history_k_data_plus respond error_code:0\n",
      "query_history_k_data_plus respond  error_msg:success\n",
      "           date     open     high      low    close    volume\n",
      "0    2017-01-06  18.3400  22.0000  18.3400  22.0000      7021\n",
      "1    2017-01-09  24.2000  24.2000  24.2000  24.2000      2721\n",
      "2    2017-01-10  26.6200  26.6200  26.6200  26.6200      2000\n",
      "3    2017-01-11  29.2800  29.2800  29.2800  29.2800      6200\n",
      "4    2017-01-12  32.2100  32.2100  32.2100  32.2100      6921\n",
      "..          ...      ...      ...      ...      ...       ...\n",
      "796  2020-04-16  40.6900  41.4500  38.7000  39.2500  28623287\n",
      "797  2020-04-17  39.5000  39.9100  37.8000  38.2800  25541813\n",
      "798  2020-04-20  37.8100  39.0800  36.7100  38.6400  24013819\n",
      "799  2020-04-21  38.3400  41.1300  37.8300  38.7200  28839858\n",
      "800  2020-04-22  38.0300  39.2000  37.2600  38.1000  16671958\n",
      "\n",
      "[801 rows x 6 columns]\n",
      "logout success!\n"
     ]
    },
    {
     "data": {
      "text/plain": [
       "<baostock.data.resultset.ResultData at 0x1f2b0119bc8>"
      ]
     },
     "execution_count": 406,
     "metadata": {},
     "output_type": "execute_result"
    }
   ],
   "source": [
    "# Dataset\n",
    "# In this case, we are going to use one stock of the Chinese stock market, u may need to install the api package first\n",
    "# pip install baostock -i https://pypi.tuna.tsinghua.edu.cn/simple/ --trusted-host pypi.tuna.tsinghua.edu.cn\n",
    "import baostock as bs\n",
    "import pandas as pd\n",
    "\n",
    "#### Login to baostock api ####\n",
    "lg = bs.login()\n",
    "# display feedback of login\n",
    "print('login respond error_code:'+lg.error_code)\n",
    "print('login respond  error_msg:'+lg.error_msg)\n",
    "\n",
    "#### Get stock history of A-share of mainland China  ####\n",
    "rs = bs.query_history_k_data_plus(\"sz.002838\",#change the specific stock ID in the quotation mark\n",
    "    \"date,open,high,low,close,volume\",\n",
    "    start_date='2000-01-01', end_date='2020-04-22', #change the period that we want to aquire the daily data\n",
    "    frequency=\"d\", adjustflag=\"3\") \n",
    "print('query_history_k_data_plus respond error_code:'+rs.error_code)\n",
    "print('query_history_k_data_plus respond  error_msg:'+rs.error_msg)\n",
    "\n",
    "#### Output the dataset ####\n",
    "data_list = []\n",
    "while (rs.error_code == '0') & rs.next():\n",
    "    # Request each entry and append them\n",
    "    data_list.append(rs.get_row_data())\n",
    "result = pd.DataFrame(data_list, columns=rs.fields)\n",
    "#### Save the data as csv ####\n",
    "result.to_csv(\"history_k_data.csv\", encoding=\"gbk\", index=False)\n",
    "print(result)\n",
    "\n",
    "#### Logout from baostock api ####\n",
    "bs.logout()"
   ]
  },
  {
   "cell_type": "code",
   "execution_count": 407,
   "metadata": {
    "scrolled": false
   },
   "outputs": [],
   "source": [
    "# # Dataset\n",
    "# # In this case, we are going to use one stock of the Chinese stock market, u may need to install the api package first\n",
    "# # pip install baostock -i https://pypi.tuna.tsinghua.edu.cn/simple/ --trusted-host pypi.tuna.tsinghua.edu.cn\n",
    "# import baostock as bs\n",
    "# import pandas as pd\n",
    "\n",
    "# #### Login to baostock api ####\n",
    "# lg = bs.login()\n",
    "# # display feedback of login\n",
    "# print('login respond error_code:'+lg.error_code)\n",
    "# print('login respond  error_msg:'+lg.error_msg)\n",
    "\n",
    "# #### Get stock history of A-share of mainland China  ####\n",
    "# # 详细指标参数，参见“历史行情指标参数”章节\n",
    "# rs = bs.query_history_k_data_plus(\"sz.002838\",\n",
    "#     \"date,open,high,low,close,volume\",\n",
    "#     start_date='2000-01-01', end_date='2020-04-22', \n",
    "#     frequency=\"d\", adjustflag=\"3\") #frequency=\"d\"取日k线，adjustflag=\"3\"默认不复权\n",
    "# print('query_history_k_data_plus respond error_code:'+rs.error_code)\n",
    "# print('query_history_k_data_plus respond  error_msg:'+rs.error_msg)\n",
    "\n",
    "# #### Output the dataset ####\n",
    "# data_list = []\n",
    "# while (rs.error_code == '0') & rs.next():\n",
    "#     # Request each entry and append them\n",
    "#     data_list.append(rs.get_row_data())\n",
    "# result = pd.DataFrame(data_list, columns=rs.fields)\n",
    "# #### Save the data as csv ####\n",
    "# result.to_csv(\"history_k_data.csv\", encoding=\"gbk\", index=False)\n",
    "# print(result)\n",
    "\n",
    "# #### Logout from baostock api ####\n",
    "# bs.logout()"
   ]
  },
  {
   "cell_type": "code",
   "execution_count": 408,
   "metadata": {},
   "outputs": [],
   "source": [
    "# print(ohlcv_histories_normalised.shape)\n",
    "# print(data_normalised.shape)\n",
    "# print(technical_indicators_normalised.shape)\n",
    "# print(np.shape(technical_indicators))\n",
    "# print(mean.shape)"
   ]
  },
  {
   "cell_type": "code",
   "execution_count": 409,
   "metadata": {},
   "outputs": [],
   "source": [
    "# # Data processing for the x-day average price feature\n",
    "# import pandas as pd\n",
    "# from sklearn import preprocessing\n",
    "# import numpy as np\n",
    "\n",
    "# def calculate_x_day_average(number_of_days):\n",
    "#     average_x_day_price = []    \n",
    "#     for i in range(len(df['open'])-number_of_days):\n",
    "#         average_x_day_price.append(df['open'][i:i+number_of_days].mean())       \n",
    "#     return average_x_day_price\n",
    "\n",
    "# def get_next_day_value(number_of_days, column_name):\n",
    "#     next_day_value = df[column_name][number_of_days:]   \n",
    "#     return list(next_day_value)\n",
    "\n",
    "# df = pd.read_csv('history_k_data.csv')\n",
    "# average_30_day_price = calcuate_x_day_average(30)\n",
    "# next_day_price = get_next_day_value(30,'open')\n",
    "# pearsonr(average_30_day_price,next_day_price)\n",
    "# print(len(average_30_day_price))\n",
    "# print(len(next_day_price))"
   ]
  },
  {
   "cell_type": "code",
   "execution_count": 410,
   "metadata": {},
   "outputs": [
    {
     "name": "stdout",
     "output_type": "stream",
     "text": [
      "(693, 30, 5)\n",
      "(77, 30, 5)\n",
      "(77, 1)\n",
      "(693, 2)\n",
      "(77, 2)\n",
      "(693, 4)\n",
      "(77, 4)\n"
     ]
    }
   ],
   "source": [
    "# Get the dataset we have the csv file\n",
    "ohlcv_histories_normalised, technical_indicators_normalised, \\\n",
    "    next_day_open_values_normalised, next_day_open_values, \\\n",
    "    next_day_high_values_normalised, next_day_high_values, \\\n",
    "    next_day_low_values_normalised, next_day_low_values, \\\n",
    "    next_day_close_values_normalised, next_day_close_values, x_day_mean_indicator, \\\n",
    "    y_open, y_high, y_low, y_close = csv_to_dataset('history_k_data.csv')\n",
    "\n",
    "test_split = 0.9 # the percent of data to be used for training\n",
    "n = int(ohlcv_histories_normalised.shape[0] * test_split)\n",
    "\n",
    "# splitting the dataset up into train and test sets\n",
    "\n",
    "ohlcv_train = ohlcv_histories_normalised[:n]\n",
    "y_train = next_day_open_values_normalised[:n]\n",
    "# y_train = next_day_high_values_normalised[:n]\n",
    "# y_train = next_day_low_values_normalised[:n]\n",
    "# y_train = next_day_close_values_normalised[:n]\n",
    "\n",
    "ohlcv_test = ohlcv_histories_normalised[n:]\n",
    "y_test = next_day_open_values_normalised[n:]\n",
    "# y_test = next_day_high_values_normalised[n:]\n",
    "# y_test = next_day_low_values_normalised[n:]\n",
    "# y_test = next_day_close_values_normalised[n:]\n",
    "\n",
    "\n",
    "unscaled_y_test = next_day_open_values[n:]\n",
    "# unscaled_y_test = next_day_high_values[n:]\n",
    "# unscaled_y_test = next_day_low_values[n:]\n",
    "# unscaled_y_test = next_day_close_values[n:]\n",
    "\n",
    "\n",
    "tech_ind_train = technical_indicators_normalised[:n]\n",
    "tech_ind_test = technical_indicators_normalised[n:]\n",
    "\n",
    "x_day_mean_train = x_day_mean_indicator[:n]\n",
    "x_day_mean_test = x_day_mean_indicator[n:]\n",
    "\n",
    "print(ohlcv_train.shape)\n",
    "print(ohlcv_test.shape)\n",
    "print(unscaled_y_test.shape)\n",
    "print(tech_ind_train.shape)\n",
    "print(tech_ind_test.shape)\n",
    "print(x_day_mean_train.shape)\n",
    "print(x_day_mean_test.shape)"
   ]
  },
  {
   "cell_type": "code",
   "execution_count": 411,
   "metadata": {},
   "outputs": [
    {
     "data": {
      "image/png": "[encoded data removed]",
      "text/plain": [
       "<IPython.core.display.Image object>"
      ]
     },
     "execution_count": 411,
     "metadata": {},
     "output_type": "execute_result"
    }
   ],
   "source": [
    "# Improved model including the technical indicators and average prices of past x days\n",
    "import keras\n",
    "import tensorflow as tf\n",
    "from keras.models import Model\n",
    "from keras.layers import Dense, Dropout, LSTM, Input, Activation, concatenate\n",
    "from keras import optimizers\n",
    "import numpy as np\n",
    "np.random.seed(4)\n",
    "import tensorflow as  tf\n",
    "tf.random.set_seed(4)\n",
    "\n",
    "# define three sets of inputs\n",
    "lstm_input = Input(shape=(history_points, 5), name='lstm_input')\n",
    "dense_input = Input(shape=(technical_indicators_normalised.shape[1],), name='tech_input')\n",
    "dense2_input = Input(shape=(x_day_mean_indicator.shape[1],), name='mean_input')\n",
    "# lstm2_input = Input(shape=(history_points, 4), name='mean_input')\n",
    "\n",
    "# the first branch operates on the first input\n",
    "x = LSTM(50, name='lstm_0')(lstm_input)\n",
    "x = Dropout(0.2, name='lstm_dropout_0')(x)\n",
    "lstm_branch = Model(inputs=lstm_input, outputs=x)\n",
    " \n",
    "# the second branch opreates on the second input\n",
    "y = Dense(20, name='tech_dense_0')(dense_input)\n",
    "y = Activation(\"relu\", name='tech_relu_0')(y)\n",
    "y = Dropout(0.2, name='tech_dropout_0')(y)\n",
    "technical_indicators_branch = Model(inputs=dense_input, outputs=y)\n",
    "\n",
    "# the third branch opreates on the third input\n",
    "y = Dense(20, name='mean_dense_0')(dense2_input)\n",
    "y = Activation(\"relu\", name='mean_relu_0')(y)\n",
    "y = Activation(\"sigmoid\", name='mean_sigmoid_0')(y)\n",
    "# y = Dropout(0.2, name='mean_dropout_0')(y)\n",
    "mean_branch = Model(inputs=dense2_input, outputs=y)\n",
    "\n",
    "\n",
    "# combine the output of the three branches\n",
    "combined = concatenate([lstm_branch.output, technical_indicators_branch.output, mean_branch.output], name='concatenate')\n",
    " \n",
    "z = Dense(64, activation=\"sigmoid\", name='dense_pooling')(combined)\n",
    "z = Dense(1, activation=\"linear\", name='dense_out')(z)\n",
    " \n",
    "# our model will accept the inputs of the two branches and then output a single value\n",
    "model = Model(inputs=[lstm_branch.input, technical_indicators_branch.input, mean_branch.input], outputs=z)\n",
    "\n",
    "adam = optimizers.Adam(lr=0.01)\n",
    "\n",
    "model.compile(optimizer=adam,\n",
    "              loss='mse')\n",
    "\n",
    "from keras.utils import plot_model\n",
    "import os\n",
    "os.environ[\"PATH\"] += os.pathsep + 'C:\\Program Files (x86)\\Graphviz2.38\\bin'  # path of graphviz installed (https://www.graphviz.org/)\n",
    "plot_model(model, to_file='model.png', show_shapes=True)"
   ]
  },
  {
   "cell_type": "code",
   "execution_count": 412,
   "metadata": {
    "scrolled": true
   },
   "outputs": [
    {
     "name": "stdout",
     "output_type": "stream",
     "text": [
      "Train on 623 samples, validate on 70 samples\n",
      "Epoch 1/50\n",
      "623/623 [==============================] - 1s 2ms/step - loss: 0.0867 - val_loss: 0.0090\n",
      "Epoch 2/50\n",
      "623/623 [==============================] - 0s 557us/step - loss: 0.0084 - val_loss: 5.5242e-05\n",
      "Epoch 3/50\n",
      "623/623 [==============================] - 0s 515us/step - loss: 0.0043 - val_loss: 4.8419e-04\n",
      "Epoch 4/50\n",
      "623/623 [==============================] - 0s 581us/step - loss: 0.0030 - val_loss: 5.8758e-04\n",
      "Epoch 5/50\n",
      "623/623 [==============================] - 0s 509us/step - loss: 0.0026 - val_loss: 5.7753e-04\n",
      "Epoch 6/50\n",
      "623/623 [==============================] - 0s 557us/step - loss: 0.0021 - val_loss: 3.2276e-05\n",
      "Epoch 7/50\n",
      "623/623 [==============================] - 0s 527us/step - loss: 0.0019 - val_loss: 1.7857e-04\n",
      "Epoch 8/50\n",
      "623/623 [==============================] - 0s 535us/step - loss: 0.0020 - val_loss: 6.3316e-04\n",
      "Epoch 9/50\n",
      "623/623 [==============================] - 0s 562us/step - loss: 0.0015 - val_loss: 1.6025e-05\n",
      "Epoch 10/50\n",
      "623/623 [==============================] - 0s 514us/step - loss: 0.0016 - val_loss: 2.5364e-04\n",
      "Epoch 11/50\n",
      "623/623 [==============================] - 0s 512us/step - loss: 0.0015 - val_loss: 1.6089e-04\n",
      "Epoch 12/50\n",
      "623/623 [==============================] - 0s 507us/step - loss: 0.0014 - val_loss: 0.0014\n",
      "Epoch 13/50\n",
      "623/623 [==============================] - 0s 552us/step - loss: 0.0014 - val_loss: 4.3084e-05\n",
      "Epoch 14/50\n",
      "623/623 [==============================] - 0s 510us/step - loss: 0.0013 - val_loss: 4.4363e-05\n",
      "Epoch 15/50\n",
      "623/623 [==============================] - 0s 510us/step - loss: 0.0017 - val_loss: 9.7473e-05\n",
      "Epoch 16/50\n",
      "623/623 [==============================] - 0s 512us/step - loss: 0.0021 - val_loss: 1.1241e-05\n",
      "Epoch 17/50\n",
      "623/623 [==============================] - 0s 541us/step - loss: 0.0014 - val_loss: 2.3458e-05\n",
      "Epoch 18/50\n",
      "623/623 [==============================] - 0s 514us/step - loss: 0.0012 - val_loss: 2.1371e-04\n",
      "Epoch 19/50\n",
      "623/623 [==============================] - 0s 515us/step - loss: 0.0012 - val_loss: 8.7698e-05\n",
      "Epoch 20/50\n",
      "623/623 [==============================] - 0s 559us/step - loss: 0.0011 - val_loss: 7.7203e-04\n",
      "Epoch 21/50\n",
      "623/623 [==============================] - 0s 509us/step - loss: 0.0014 - val_loss: 5.6807e-04\n",
      "Epoch 22/50\n",
      "623/623 [==============================] - 0s 510us/step - loss: 0.0014 - val_loss: 5.4886e-05\n",
      "Epoch 23/50\n",
      "623/623 [==============================] - 0s 512us/step - loss: 0.0011 - val_loss: 1.2687e-05\n",
      "Epoch 24/50\n",
      "623/623 [==============================] - 0s 547us/step - loss: 0.0012 - val_loss: 7.7671e-04\n",
      "Epoch 25/50\n",
      "623/623 [==============================] - 0s 509us/step - loss: 0.0012 - val_loss: 1.7530e-04\n",
      "Epoch 26/50\n",
      "623/623 [==============================] - 0s 517us/step - loss: 0.0012 - val_loss: 2.1177e-04\n",
      "Epoch 27/50\n",
      "623/623 [==============================] - 0s 543us/step - loss: 0.0012 - val_loss: 1.5562e-04\n",
      "Epoch 28/50\n",
      "623/623 [==============================] - 0s 512us/step - loss: 0.0019 - val_loss: 3.2118e-05\n",
      "Epoch 29/50\n",
      "623/623 [==============================] - 0s 604us/step - loss: 0.0015 - val_loss: 8.6730e-05\n",
      "Epoch 30/50\n",
      "623/623 [==============================] - 0s 504us/step - loss: 0.0017 - val_loss: 2.2125e-05\n",
      "Epoch 31/50\n",
      "623/623 [==============================] - 0s 549us/step - loss: 0.0013 - val_loss: 9.0585e-04\n",
      "Epoch 32/50\n",
      "623/623 [==============================] - 0s 502us/step - loss: 0.0012 - val_loss: 2.7140e-05\n",
      "Epoch 33/50\n",
      "623/623 [==============================] - 0s 517us/step - loss: 0.0010 - val_loss: 8.3294e-05\n",
      "Epoch 34/50\n",
      "623/623 [==============================] - 0s 536us/step - loss: 0.0010 - val_loss: 6.8056e-04\n",
      "Epoch 35/50\n",
      "623/623 [==============================] - 0s 509us/step - loss: 0.0019 - val_loss: 2.1410e-04\n",
      "Epoch 36/50\n",
      "623/623 [==============================] - 0s 523us/step - loss: 9.2994e-04 - val_loss: 2.7570e-04\n",
      "Epoch 37/50\n",
      "623/623 [==============================] - ETA: 0s - loss: 0.001 - 0s 515us/step - loss: 0.0014 - val_loss: 2.0738e-05\n",
      "Epoch 38/50\n",
      "623/623 [==============================] - 0s 544us/step - loss: 0.0012 - val_loss: 2.6402e-04\n",
      "Epoch 39/50\n",
      "623/623 [==============================] - 0s 519us/step - loss: 0.0012 - val_loss: 0.0013\n",
      "Epoch 40/50\n",
      "623/623 [==============================] - 0s 504us/step - loss: 0.0016 - val_loss: 3.9934e-04\n",
      "Epoch 41/50\n",
      "623/623 [==============================] - 0s 620us/step - loss: 0.0012 - val_loss: 2.4061e-05\n",
      "Epoch 42/50\n",
      "623/623 [==============================] - 0s 502us/step - loss: 0.0010 - val_loss: 7.9726e-04\n",
      "Epoch 43/50\n",
      "623/623 [==============================] - 0s 509us/step - loss: 0.0012 - val_loss: 1.6757e-05\n",
      "Epoch 44/50\n",
      "623/623 [==============================] - 0s 507us/step - loss: 8.7098e-04 - val_loss: 0.0051\n",
      "Epoch 45/50\n",
      "623/623 [==============================] - 0s 551us/step - loss: 0.0030 - val_loss: 0.0049\n",
      "Epoch 46/50\n",
      "623/623 [==============================] - 0s 509us/step - loss: 0.0018 - val_loss: 2.9373e-04\n",
      "Epoch 47/50\n",
      "623/623 [==============================] - 0s 510us/step - loss: 9.3253e-04 - val_loss: 4.6299e-05\n",
      "Epoch 48/50\n",
      "623/623 [==============================] - 0s 539us/step - loss: 9.7885e-04 - val_loss: 9.3268e-05\n",
      "Epoch 49/50\n",
      "623/623 [==============================] - 0s 512us/step - loss: 0.0015 - val_loss: 0.0015\n",
      "Epoch 50/50\n",
      "623/623 [==============================] - 0s 510us/step - loss: 0.0013 - val_loss: 4.6898e-04\n",
      "77/77 [==============================] - 0s 208us/step\n",
      "0.0014414952723188447\n"
     ]
    }
   ],
   "source": [
    "# Training\n",
    "# fit the model\n",
    "model.fit(x=[ohlcv_train, tech_ind_train, x_day_mean_train], y=y_train, batch_size=32, epochs=50, shuffle=True, validation_split=0.1)\n",
    "evaluation = model.evaluate([ohlcv_test, tech_ind_test, x_day_mean_test], y_test)\n",
    "print(evaluation)"
   ]
  },
  {
   "cell_type": "code",
   "execution_count": 413,
   "metadata": {},
   "outputs": [],
   "source": [
    "# print(ohlcv_train.shape)\n",
    "# print(x_day_mean_train.shape)\n",
    "# print(tech_ind_train.shape)"
   ]
  },
  {
   "cell_type": "code",
   "execution_count": 414,
   "metadata": {},
   "outputs": [
    {
     "name": "stdout",
     "output_type": "stream",
     "text": [
      "13.153489229173006\n"
     ]
    }
   ],
   "source": [
    "# Evaluation\n",
    "\n",
    "y_test_predicted = model.predict([ohlcv_test, tech_ind_test, x_day_mean_test])\n",
    "# model.predict returns normalised values\n",
    "# now we scale them back up using the y_normaliser from before\n",
    "y_test_predicted = y_open.inverse_transform(y_test_predicted)\n",
    "\n",
    "# also getting predictions for the entire dataset, just to see how it performs\n",
    "y_predicted = model.predict([ohlcv_histories_normalised, technical_indicators_normalised, x_day_mean_indicator])\n",
    "y_predicted = y_open.inverse_transform(y_predicted)\n",
    "\n",
    "assert unscaled_y_test.shape == y_test_predicted.shape\n",
    "real_mse = np.mean(np.square(unscaled_y_test - y_test_predicted))\n",
    "scaled_mse = real_mse / (np.max(unscaled_y_test) - np.min(unscaled_y_test)) * 100\n",
    "print(scaled_mse)\n"
   ]
  },
  {
   "cell_type": "code",
   "execution_count": 417,
   "metadata": {},
   "outputs": [
    {
     "name": "stdout",
     "output_type": "stream",
     "text": [
      "[38.03]\n",
      "[38.593166]\n"
     ]
    }
   ],
   "source": [
    "print(unscaled_y_test[-1])\n",
    "print(y_test_predicted[-1])"
   ]
  },
  {
   "cell_type": "code",
   "execution_count": 416,
   "metadata": {},
   "outputs": [],
   "source": [
    "# import matplotlib.pyplot as plt\n",
    "# plt.gcf().set_size_inches(22, 15, forward=True)\n",
    "\n",
    "# start = 0\n",
    "# end = -1\n",
    "\n",
    "# real = plt.plot(unscaled_y_test[start:end], label='real')\n",
    "# pred = plt.plot(y_test_predicted[start:end], label='predicted')\n",
    "\n",
    "# plt.legend(['Real', 'Predicted'])\n",
    "\n",
    "# plt.show()"
   ]
  },
  {
   "cell_type": "code",
   "execution_count": null,
   "metadata": {},
   "outputs": [],
   "source": []
  }
 ],
 "metadata": {
  "kernelspec": {
   "display_name": "Python 3",
   "language": "python",
   "name": "python3"
  },
  "language_info": {
   "codemirror_mode": {
    "name": "ipython",
    "version": 3
   },
   "file_extension": ".py",
   "mimetype": "text/x-python",
   "name": "python",
   "nbconvert_exporter": "python",
   "pygments_lexer": "ipython3",
   "version": "3.7.6"
  }
 },
 "nbformat": 4,
 "nbformat_minor": 2
}
